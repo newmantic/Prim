{
  "nbformat": 4,
  "nbformat_minor": 0,
  "metadata": {
    "colab": {
      "provenance": [],
      "authorship_tag": "ABX9TyNR8yyyldOC9swnRkJdpP6A",
      "include_colab_link": true
    },
    "kernelspec": {
      "name": "python3",
      "display_name": "Python 3"
    },
    "language_info": {
      "name": "python"
    }
  },
  "cells": [
    {
      "cell_type": "markdown",
      "metadata": {
        "id": "view-in-github",
        "colab_type": "text"
      },
      "source": [
        "<a href=\"https://colab.research.google.com/github/newmantic/Prim/blob/main/Prim.ipynb\" target=\"_parent\"><img src=\"https://colab.research.google.com/assets/colab-badge.svg\" alt=\"Open In Colab\"/></a>"
      ]
    },
    {
      "cell_type": "code",
      "execution_count": 1,
      "metadata": {
        "id": "uxCEYYQQ6Cy8"
      },
      "outputs": [],
      "source": [
        "import heapq\n",
        "\n",
        "def prim(graph, start):\n",
        "    mst = []\n",
        "    visited = set()\n",
        "    min_heap = [(0, start, None)]  # (weight, node, parent)\n",
        "\n",
        "    while min_heap:\n",
        "        weight, node, parent = heapq.heappop(min_heap)\n",
        "\n",
        "        if node in visited:\n",
        "            continue\n",
        "\n",
        "        visited.add(node)\n",
        "\n",
        "        if parent is not None:\n",
        "            mst.append((parent, node, weight))\n",
        "\n",
        "        for neighbor, edge_weight in graph[node]:\n",
        "            if neighbor not in visited:\n",
        "                heapq.heappush(min_heap, (edge_weight, neighbor, node))\n",
        "\n",
        "    return mst\n"
      ]
    },
    {
      "cell_type": "code",
      "source": [
        "# Example 1: Simple Graph\n",
        "graph1 = {\n",
        "    'A': [('B', 1), ('C', 4)],\n",
        "    'B': [('A', 1), ('C', 2), ('D', 5)],\n",
        "    'C': [('A', 4), ('B', 2), ('D', 1)],\n",
        "    'D': [('B', 5), ('C', 1)]\n",
        "}\n",
        "\n",
        "mst1 = prim(graph1, 'A')\n",
        "print(\"MST for graph1:\", mst1)\n",
        "# Expected output: [('A', 'B', 1), ('B', 'C', 2), ('C', 'D', 1)]\n",
        "\n",
        "# Example 2: Dense Graph\n",
        "graph2 = {\n",
        "    'A': [('B', 3), ('C', 1), ('D', 3)],\n",
        "    'B': [('A', 3), ('C', 1), ('D', 3)],\n",
        "    'C': [('A', 1), ('B', 1), ('D', 1)],\n",
        "    'D': [('A', 3), ('B', 3), ('C', 1)]\n",
        "}\n",
        "\n",
        "mst2 = prim(graph2, 'A')\n",
        "print(\"MST for graph2:\", mst2)\n",
        "# Expected output: [('A', 'C', 1), ('C', 'B', 1), ('C', 'D', 1)]\n",
        "\n",
        "# Example 3: Sparse Graph\n",
        "graph3 = {\n",
        "    'A': [('B', 2)],\n",
        "    'B': [('A', 2), ('C', 3)],\n",
        "    'C': [('B', 3)],\n",
        "    'D': [('E', 1)],\n",
        "    'E': [('D', 1)]\n",
        "}\n",
        "\n",
        "mst3 = prim(graph3, 'A')\n",
        "print(\"MST for graph3:\", mst3)\n",
        "# Expected output: [('A', 'B', 2), ('B', 'C', 3)]\n",
        "\n",
        "# Example 4: Graph with Equal Weights\n",
        "graph4 = {\n",
        "    'A': [('B', 1), ('C', 1)],\n",
        "    'B': [('A', 1), ('C', 1), ('D', 1)],\n",
        "    'C': [('A', 1), ('B', 1), ('D', 1)],\n",
        "    'D': [('B', 1), ('C', 1)]\n",
        "}\n",
        "\n",
        "mst4 = prim(graph4, 'A')\n",
        "print(\"MST for graph4:\", mst4)\n",
        "# Expected output: [('A', 'B', 1), ('A', 'C', 1), ('B', 'D', 1)] or similar (depends on the heap order)"
      ],
      "metadata": {
        "colab": {
          "base_uri": "https://localhost:8080/"
        },
        "id": "YEeIwlWM6h6A",
        "outputId": "3e1b4920-3a94-4ece-f1bb-2a74098c7343"
      },
      "execution_count": 2,
      "outputs": [
        {
          "output_type": "stream",
          "name": "stdout",
          "text": [
            "MST for graph1: [('A', 'B', 1), ('B', 'C', 2), ('C', 'D', 1)]\n",
            "MST for graph2: [('A', 'C', 1), ('C', 'B', 1), ('C', 'D', 1)]\n",
            "MST for graph3: [('A', 'B', 2), ('B', 'C', 3)]\n",
            "MST for graph4: [('A', 'B', 1), ('A', 'C', 1), ('B', 'D', 1)]\n"
          ]
        }
      ]
    }
  ]
}